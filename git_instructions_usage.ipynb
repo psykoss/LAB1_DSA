{
 "cells": [
  {
   "cell_type": "markdown",
   "id": "6e4ca82a-e510-402e-aedf-b8a1cf6db9f4",
   "metadata": {},
   "source": [
    "## BASIC GIT"
   ]
  },
  {
   "cell_type": "markdown",
   "id": "5cce42a7-ed77-4597-8f0f-7feed8e20d29",
   "metadata": {},
   "source": [
    "Add one file\n",
    "--> git add 'filename'\n",
    "\n",
    "Add entire changes\n",
    "--> git add .\n"
   ]
  },
  {
   "cell_type": "markdown",
   "id": "3e4aeefa-2d13-4efa-9ae5-eba962fb29d9",
   "metadata": {},
   "source": [
    "Commit changes --> git commit -m \"message\""
   ]
  },
  {
   "cell_type": "markdown",
   "id": "43991f59-3f59-4ef0-be6f-413adf4fd577",
   "metadata": {},
   "source": [
    "push changes to remote repo --> git push -u origin main"
   ]
  },
  {
   "cell_type": "markdown",
   "id": "1fcaeb15-6704-4692-a8a4-7fec860c0db7",
   "metadata": {},
   "source": [
    "Note: The work must be done one at once, when one finish the other start , if this is not done correctly it will raise errors, this can be solved with branching but that is an advanced topic"
   ]
  }
 ],
 "metadata": {
  "kernelspec": {
   "display_name": "Python 3 (ipykernel)",
   "language": "python",
   "name": "python3"
  },
  "language_info": {
   "codemirror_mode": {
    "name": "ipython",
    "version": 3
   },
   "file_extension": ".py",
   "mimetype": "text/x-python",
   "name": "python",
   "nbconvert_exporter": "python",
   "pygments_lexer": "ipython3",
   "version": "3.12.1"
  }
 },
 "nbformat": 4,
 "nbformat_minor": 5
}
